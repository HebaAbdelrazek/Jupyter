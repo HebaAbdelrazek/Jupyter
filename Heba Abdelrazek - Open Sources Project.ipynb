{
 "cells": [
  {
   "cell_type": "markdown",
   "metadata": {},
   "source": [
    "# My Jupyter Notebook on IBM Data Science Experience"
   ]
  },
  {
   "cell_type": "markdown",
   "metadata": {},
   "source": [
    "**Heba Abdelrazek**  \n",
    "Data Scientist"
   ]
  },
  {
   "cell_type": "markdown",
   "metadata": {},
   "source": [
    "_I'm interested in data science, because it's a vast field that has a lot of opportunities and knowledge areas, IBM Watson Studio seems very promising to learn with it, however it didn't want me to load any project with it so i'm making this notebook with normal Jupyter notebooks on my local host!_"
   ]
  },
  {
   "cell_type": "markdown",
   "metadata": {},
   "source": [
    "### My code is a simple 1+1 addition in the next cell, in cell 5"
   ]
  },
  {
   "cell_type": "code",
   "execution_count": 1,
   "metadata": {},
   "outputs": [
    {
     "data": {
      "text/plain": [
       "2"
      ]
     },
     "execution_count": 1,
     "metadata": {},
     "output_type": "execute_result"
    }
   ],
   "source": [
    "1+1"
   ]
  },
  {
   "cell_type": "markdown",
   "metadata": {},
   "source": [
    "- bulletlist element 1\n",
    "- ~~bulletlist element 2 ~~\n",
    "- bulletlist element 3   \n",
    "\n",
    "\n",
    "1. ~~numberedlist element 1~~\n",
    "2. numberedlist element 2\n",
    "3. numberedlist element 3\n",
    "\n",
    "| Cats          | Cool          | \n",
    "| ------------- |:-------------:| \n",
    "| col 3 is      | right-aligned | \n",
    "| col 2 is      | centered      | \n",
    "\n",
    "> I hope my notebook is accepted because i can't load watson at all but i can still deal with jupyter notebooks installed on my laptop i dont need the cloud for it\n"
   ]
  },
  {
   "cell_type": "code",
   "execution_count": null,
   "metadata": {},
   "outputs": [],
   "source": []
  }
 ],
 "metadata": {
  "kernelspec": {
   "display_name": "Python 3",
   "language": "python",
   "name": "python3"
  },
  "language_info": {
   "codemirror_mode": {
    "name": "ipython",
    "version": 3
   },
   "file_extension": ".py",
   "mimetype": "text/x-python",
   "name": "python",
   "nbconvert_exporter": "python",
   "pygments_lexer": "ipython3",
   "version": "3.7.4"
  }
 },
 "nbformat": 4,
 "nbformat_minor": 2
}
